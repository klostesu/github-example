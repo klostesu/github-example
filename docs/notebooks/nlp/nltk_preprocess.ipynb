{
  "nbformat": 4,
  "nbformat_minor": 0,
  "metadata": {
    "colab": {
      "name": "nltk_preprocess.ipynb",
      "provenance": [],
      "include_colab_link": true
    },
    "kernelspec": {
      "display_name": "Python [default]",
      "language": "python",
      "name": "python3"
    }
  },
  "cells": [
    {
      "cell_type": "markdown",
      "metadata": {
        "id": "view-in-github",
        "colab_type": "text"
      },
      "source": [
        "<a href=\"https://colab.research.google.com/github/klostesu/github-example/blob/master/docs/notebooks/nlp/nltk_preprocess.ipynb\" target=\"_parent\"><img src=\"https://colab.research.google.com/assets/colab-badge.svg\" alt=\"Open In Colab\"/></a>"
      ]
    },
    {
      "metadata": {
        "id": "3mFK9wUoebxg"
      },
      "cell_type": "markdown",
      "source": [
        "# Example using nltk for preprocessing text"
      ]
    },
    {
      "metadata": {
        "id": "Sgs723FwLGhz"
      },
      "cell_type": "markdown",
      "source": [
        "**NOTE:**\n",
        "You will be prompted to upload a text file from your Google Drive.\n",
        "\n",
        "If you would like to use the file that was used in this example, copy it from this link to your Google Drive:\n",
        "\n",
        "https://github.com/gal-a/blog/blob/master/docs/notebooks/nlp/data/quotes.txt"
      ]
    },
    {
      "metadata": {
        "id": "-44aMwUcQZxm",
        "colab": {
          "base_uri": "https://localhost:8080/"
        },
        "outputId": "8a7c0386-aee5-4420-b1af-09521a8b5cd2"
      },
      "cell_type": "code",
      "source": [
        "# Setup\n",
        "!pip install -q wordcloud\n",
        "import wordcloud\n",
        "\n",
        "import nltk\n",
        "nltk.download('stopwords')\n",
        "nltk.download('wordnet')\n",
        "nltk.download('punkt')\n",
        "nltk.download('averaged_perceptron_tagger')\n",
        "\n",
        "import pandas as pd\n",
        "import matplotlib.pyplot as plt\n",
        "import io\n",
        "import unicodedata\n",
        "import numpy as np\n",
        "import re\n",
        "import string"
      ],
      "execution_count": 1,
      "outputs": [
        {
          "output_type": "stream",
          "name": "stderr",
          "text": [
            "[nltk_data] Downloading package stopwords to /root/nltk_data...\n",
            "[nltk_data]   Unzipping corpora/stopwords.zip.\n",
            "[nltk_data] Downloading package wordnet to /root/nltk_data...\n",
            "[nltk_data] Downloading package punkt to /root/nltk_data...\n",
            "[nltk_data]   Unzipping tokenizers/punkt.zip.\n",
            "[nltk_data] Downloading package averaged_perceptron_tagger to\n",
            "[nltk_data]     /root/nltk_data...\n",
            "[nltk_data]   Unzipping taggers/averaged_perceptron_tagger.zip.\n"
          ]
        }
      ]
    },
    {
      "metadata": {
        "id": "0JzUMH4jdXm7"
      },
      "cell_type": "code",
      "source": [
        "# Constants\n",
        "# POS (Parts Of Speech) for: nouns, adjectives, verbs and adverbs\n",
        "DI_POS_TYPES = {'NN':'n', 'JJ':'a', 'VB':'v', 'RB':'r'}\n",
        "POS_TYPES = list(DI_POS_TYPES.keys())\n",
        "\n",
        "# Constraints on tokens\n",
        "MIN_STR_LEN = 3\n",
        "RE_VALID = '[a-zA-Z]'"
      ],
      "execution_count": 2,
      "outputs": []
    },
    {
      "metadata": {
        "id": "RVgxtPLrlIIP"
      },
      "cell_type": "markdown",
      "source": [
        "## Load the corpus file from Google Drive"
      ]
    },
    {
      "metadata": {
        "id": "twRJodduiumC",
        "colab": {
          "base_uri": "https://localhost:8080/",
          "height": 371
        },
        "outputId": "45baca34-f6ed-43b0-a9b9-72428ac57194"
      },
      "cell_type": "code",
      "source": [
        "# Upload from google drive\n",
        "from google.colab import files\n",
        "uploaded = files.upload()\n",
        "print(\"len(uploaded.keys():\", len(uploaded.keys()))\n",
        "\n",
        "for fn in uploaded.keys():\n",
        "  print('User uploaded file \"{name}\" with length {length} bytes'.format(name=fn, length=len(uploaded[fn])))\n",
        "\n",
        "# Get list of quotes\n",
        "df_quotes = pd.read_csv(io.StringIO(uploaded['quotes.txt'].decode('utf-8')), sep='\\t')\n",
        "\n",
        "# Display\n",
        "print(\"df_quotes:\")\n",
        "print(df_quotes.head().to_string())\n",
        "print(df_quotes.describe())\n",
        "\n",
        "# Convert quotes to list\n",
        "li_quotes = df_quotes['Quote'].tolist()\n",
        "print()\n",
        "print(\"len(li_quotes):\", len(li_quotes))"
      ],
      "execution_count": 4,
      "outputs": [
        {
          "output_type": "display_data",
          "data": {
            "text/plain": [
              "<IPython.core.display.HTML object>"
            ],
            "text/html": [
              "\n",
              "     <input type=\"file\" id=\"files-63535fc2-557f-4813-a8f9-bf25db0f907e\" name=\"files[]\" multiple disabled\n",
              "        style=\"border:none\" />\n",
              "     <output id=\"result-63535fc2-557f-4813-a8f9-bf25db0f907e\">\n",
              "      Upload widget is only available when the cell has been executed in the\n",
              "      current browser session. Please rerun this cell to enable.\n",
              "      </output>\n",
              "      <script>// Copyright 2017 Google LLC\n",
              "//\n",
              "// Licensed under the Apache License, Version 2.0 (the \"License\");\n",
              "// you may not use this file except in compliance with the License.\n",
              "// You may obtain a copy of the License at\n",
              "//\n",
              "//      http://www.apache.org/licenses/LICENSE-2.0\n",
              "//\n",
              "// Unless required by applicable law or agreed to in writing, software\n",
              "// distributed under the License is distributed on an \"AS IS\" BASIS,\n",
              "// WITHOUT WARRANTIES OR CONDITIONS OF ANY KIND, either express or implied.\n",
              "// See the License for the specific language governing permissions and\n",
              "// limitations under the License.\n",
              "\n",
              "/**\n",
              " * @fileoverview Helpers for google.colab Python module.\n",
              " */\n",
              "(function(scope) {\n",
              "function span(text, styleAttributes = {}) {\n",
              "  const element = document.createElement('span');\n",
              "  element.textContent = text;\n",
              "  for (const key of Object.keys(styleAttributes)) {\n",
              "    element.style[key] = styleAttributes[key];\n",
              "  }\n",
              "  return element;\n",
              "}\n",
              "\n",
              "// Max number of bytes which will be uploaded at a time.\n",
              "const MAX_PAYLOAD_SIZE = 100 * 1024;\n",
              "\n",
              "function _uploadFiles(inputId, outputId) {\n",
              "  const steps = uploadFilesStep(inputId, outputId);\n",
              "  const outputElement = document.getElementById(outputId);\n",
              "  // Cache steps on the outputElement to make it available for the next call\n",
              "  // to uploadFilesContinue from Python.\n",
              "  outputElement.steps = steps;\n",
              "\n",
              "  return _uploadFilesContinue(outputId);\n",
              "}\n",
              "\n",
              "// This is roughly an async generator (not supported in the browser yet),\n",
              "// where there are multiple asynchronous steps and the Python side is going\n",
              "// to poll for completion of each step.\n",
              "// This uses a Promise to block the python side on completion of each step,\n",
              "// then passes the result of the previous step as the input to the next step.\n",
              "function _uploadFilesContinue(outputId) {\n",
              "  const outputElement = document.getElementById(outputId);\n",
              "  const steps = outputElement.steps;\n",
              "\n",
              "  const next = steps.next(outputElement.lastPromiseValue);\n",
              "  return Promise.resolve(next.value.promise).then((value) => {\n",
              "    // Cache the last promise value to make it available to the next\n",
              "    // step of the generator.\n",
              "    outputElement.lastPromiseValue = value;\n",
              "    return next.value.response;\n",
              "  });\n",
              "}\n",
              "\n",
              "/**\n",
              " * Generator function which is called between each async step of the upload\n",
              " * process.\n",
              " * @param {string} inputId Element ID of the input file picker element.\n",
              " * @param {string} outputId Element ID of the output display.\n",
              " * @return {!Iterable<!Object>} Iterable of next steps.\n",
              " */\n",
              "function* uploadFilesStep(inputId, outputId) {\n",
              "  const inputElement = document.getElementById(inputId);\n",
              "  inputElement.disabled = false;\n",
              "\n",
              "  const outputElement = document.getElementById(outputId);\n",
              "  outputElement.innerHTML = '';\n",
              "\n",
              "  const pickedPromise = new Promise((resolve) => {\n",
              "    inputElement.addEventListener('change', (e) => {\n",
              "      resolve(e.target.files);\n",
              "    });\n",
              "  });\n",
              "\n",
              "  const cancel = document.createElement('button');\n",
              "  inputElement.parentElement.appendChild(cancel);\n",
              "  cancel.textContent = 'Cancel upload';\n",
              "  const cancelPromise = new Promise((resolve) => {\n",
              "    cancel.onclick = () => {\n",
              "      resolve(null);\n",
              "    };\n",
              "  });\n",
              "\n",
              "  // Wait for the user to pick the files.\n",
              "  const files = yield {\n",
              "    promise: Promise.race([pickedPromise, cancelPromise]),\n",
              "    response: {\n",
              "      action: 'starting',\n",
              "    }\n",
              "  };\n",
              "\n",
              "  cancel.remove();\n",
              "\n",
              "  // Disable the input element since further picks are not allowed.\n",
              "  inputElement.disabled = true;\n",
              "\n",
              "  if (!files) {\n",
              "    return {\n",
              "      response: {\n",
              "        action: 'complete',\n",
              "      }\n",
              "    };\n",
              "  }\n",
              "\n",
              "  for (const file of files) {\n",
              "    const li = document.createElement('li');\n",
              "    li.append(span(file.name, {fontWeight: 'bold'}));\n",
              "    li.append(span(\n",
              "        `(${file.type || 'n/a'}) - ${file.size} bytes, ` +\n",
              "        `last modified: ${\n",
              "            file.lastModifiedDate ? file.lastModifiedDate.toLocaleDateString() :\n",
              "                                    'n/a'} - `));\n",
              "    const percent = span('0% done');\n",
              "    li.appendChild(percent);\n",
              "\n",
              "    outputElement.appendChild(li);\n",
              "\n",
              "    const fileDataPromise = new Promise((resolve) => {\n",
              "      const reader = new FileReader();\n",
              "      reader.onload = (e) => {\n",
              "        resolve(e.target.result);\n",
              "      };\n",
              "      reader.readAsArrayBuffer(file);\n",
              "    });\n",
              "    // Wait for the data to be ready.\n",
              "    let fileData = yield {\n",
              "      promise: fileDataPromise,\n",
              "      response: {\n",
              "        action: 'continue',\n",
              "      }\n",
              "    };\n",
              "\n",
              "    // Use a chunked sending to avoid message size limits. See b/62115660.\n",
              "    let position = 0;\n",
              "    do {\n",
              "      const length = Math.min(fileData.byteLength - position, MAX_PAYLOAD_SIZE);\n",
              "      const chunk = new Uint8Array(fileData, position, length);\n",
              "      position += length;\n",
              "\n",
              "      const base64 = btoa(String.fromCharCode.apply(null, chunk));\n",
              "      yield {\n",
              "        response: {\n",
              "          action: 'append',\n",
              "          file: file.name,\n",
              "          data: base64,\n",
              "        },\n",
              "      };\n",
              "\n",
              "      let percentDone = fileData.byteLength === 0 ?\n",
              "          100 :\n",
              "          Math.round((position / fileData.byteLength) * 100);\n",
              "      percent.textContent = `${percentDone}% done`;\n",
              "\n",
              "    } while (position < fileData.byteLength);\n",
              "  }\n",
              "\n",
              "  // All done.\n",
              "  yield {\n",
              "    response: {\n",
              "      action: 'complete',\n",
              "    }\n",
              "  };\n",
              "}\n",
              "\n",
              "scope.google = scope.google || {};\n",
              "scope.google.colab = scope.google.colab || {};\n",
              "scope.google.colab._files = {\n",
              "  _uploadFiles,\n",
              "  _uploadFilesContinue,\n",
              "};\n",
              "})(self);\n",
              "</script> "
            ]
          },
          "metadata": {}
        },
        {
          "output_type": "stream",
          "name": "stdout",
          "text": [
            "Saving quotes.txt to quotes.txt\n",
            "len(uploaded.keys(): 1\n",
            "User uploaded file \"quotes.txt\" with length 6984 bytes\n",
            "df_quotes:\n",
            "            Author                                                                                                                                                                                      Quote\n",
            "0  Agatha Christie  I like living. I have sometimes been wildly, despairingly, acutely miserable, racked with sorrow; but through it all I still know quite certainly that just to be alive is a grand thing.\n",
            "1  Agatha Christie                                                                                The impossible could not have happened, therefore the impossible must be possible in spite of appearances. \n",
            "2  Agatha Christie                                                                                                       Poirot, I said. I have been thinking. An admirable exercise my friend. Continue it. \n",
            "3  Agatha Christie                                                                                                                    Instinct is a marvelous thing. It can neither be explained nor ignored.\n",
            "4  Agatha Christie                                                                                                                       The best time for planning a book is while you're doing the dishes. \n",
            "                    Author                                              Quote\n",
            "count                   46                                                 46\n",
            "unique                   5                                                 46\n",
            "top     Arthur Conan Doyle  I like living. I have sometimes been wildly, d...\n",
            "freq                    14                                                  1\n",
            "\n",
            "len(li_quotes): 46\n"
          ]
        }
      ]
    },
    {
      "metadata": {
        "id": "z0IDuv36ebxq"
      },
      "cell_type": "markdown",
      "source": [
        "## Tokenize sentences and words, remove stopwords, use stemmer & lemmatizer\n",
        "\n",
        "First, a note on the difference between Stemming vs Lemmatization:\n",
        "\n",
        "* Stemming: Trying to shorten a word with simple regex rules\n",
        "\n",
        "* Lemmatization: Trying to find the root word with linguistics rules (with the use of regex rules)"
      ]
    },
    {
      "metadata": {
        "id": "AdFlT_KXebxs",
        "colab": {
          "base_uri": "https://localhost:8080/"
        },
        "outputId": "4ba2e51e-2e00-4de4-9d4a-5d249987feca"
      },
      "cell_type": "code",
      "source": [
        "# Get stopwords, stemmer and lemmatizer\n",
        "# Get stopwords, stemmer and lemmatizer\n",
        "# Get stopwords, stemmer and lemmatizer\n",
        "import nltk\n",
        "nltk.download('stopwords')\n",
        "nltk.download('wordnet')\n",
        "nltk.download('punkt')\n",
        "nltk.download('averaged_perceptron_tagger')\n",
        "nltk.download('punkt_tab') # Download the missing 'punkt_tab' resource.\n",
        "nltk.download('averaged_perceptron_tagger_eng') # Download the missing 'averaged_perceptron_tagger_eng' resource\n",
        "\n",
        "stopwords = nltk.corpus.stopwords.words('english')\n",
        "stemmer = nltk.stem.PorterStemmer()\n",
        "lemmatizer = nltk.stem.WordNetLemmatizer()\n",
        "\n",
        "# ... (rest of the code remains the same)\n",
        "\n",
        "# Remove accents function\n",
        "def remove_accents(data):\n",
        "    return ''.join(x for x in unicodedata.normalize('NFKD', data) if x in string.ascii_letters or x == \" \")\n",
        "\n",
        "# Process all quotes\n",
        "li_tokens = []\n",
        "li_token_lists = []\n",
        "li_lem_strings = []\n",
        "\n",
        "for i,text in enumerate(li_quotes):\n",
        "    # Tokenize by sentence, then by lowercase word\n",
        "    tokens = [word.lower() for sent in nltk.sent_tokenize(text) for word in nltk.word_tokenize(sent)]\n",
        "\n",
        "    # Process all tokens per quote\n",
        "    li_tokens_quote = []\n",
        "    li_tokens_quote_lem = []\n",
        "    for token in tokens:\n",
        "        # Remove accents\n",
        "        t = remove_accents(token)\n",
        "\n",
        "        # Remove punctuation\n",
        "        t = str(t).translate(string.punctuation)\n",
        "        li_tokens_quote.append(t)\n",
        "\n",
        "        # Add token that represents \"no lemmatization match\"\n",
        "        li_tokens_quote_lem.append(\"-\") # this token will be removed if a lemmatization match is found below\n",
        "\n",
        "        # Process each token\n",
        "        if t not in stopwords:\n",
        "            if re.search(RE_VALID, t):\n",
        "                if len(t) >= MIN_STR_LEN:\n",
        "                    # Note that the POS (Part Of Speech) is necessary as input to the lemmatizer\n",
        "                    # (otherwise it assumes the word is a noun)\n",
        "                    pos = nltk.pos_tag([t])[0][1][:2]\n",
        "                    pos2 = 'n'  # set default to noun\n",
        "                    if pos in DI_POS_TYPES:\n",
        "                      pos2 = DI_POS_TYPES[pos]\n",
        "\n",
        "                    stem = stemmer.stem(t)\n",
        "                    lem = lemmatizer.lemmatize(t, pos=pos2)  # lemmatize with the correct POS\n",
        "\n",
        "                    if pos in POS_TYPES:\n",
        "                        li_tokens.append((t, stem, lem, pos))\n",
        "\n",
        "                        # Remove the \"-\" token and append the lemmatization match\n",
        "                        li_tokens_quote_lem = li_tokens_quote_lem[:-1]\n",
        "                        li_tokens_quote_lem.append(lem)\n",
        "\n",
        "    # Build list of token lists from lemmatized tokens\n",
        "    li_token_lists.append(li_tokens_quote)\n",
        "\n",
        "    # Build list of strings from lemmatized tokens\n",
        "    str_li_tokens_quote_lem = ' '.join(li_tokens_quote_lem)\n",
        "    li_lem_strings.append(str_li_tokens_quote_lem)\n",
        "\n",
        "# Build resulting dataframes from lists\n",
        "df_token_lists = pd.DataFrame(li_token_lists)\n",
        "\n",
        "print(\"df_token_lists.head(5):\")\n",
        "print(df_token_lists.head(5).to_string())\n",
        "\n",
        "# Replace None with empty string\n",
        "for c in df_token_lists:\n",
        "    if str(df_token_lists[c].dtype) in ('object', 'string_', 'unicode_'):\n",
        "        df_token_lists[c].fillna(value='', inplace=True)\n",
        "\n",
        "df_lem_strings = pd.DataFrame(li_lem_strings, columns=['lem quote'])\n",
        "\n",
        "print()\n",
        "print(\"\")\n",
        "print(\"df_lem_strings.head():\")\n",
        "print(df_lem_strings.head().to_string())"
      ],
      "execution_count": 8,
      "outputs": [
        {
          "output_type": "stream",
          "name": "stderr",
          "text": [
            "[nltk_data] Downloading package stopwords to /root/nltk_data...\n",
            "[nltk_data]   Package stopwords is already up-to-date!\n",
            "[nltk_data] Downloading package wordnet to /root/nltk_data...\n",
            "[nltk_data]   Package wordnet is already up-to-date!\n",
            "[nltk_data] Downloading package punkt to /root/nltk_data...\n",
            "[nltk_data]   Package punkt is already up-to-date!\n",
            "[nltk_data] Downloading package averaged_perceptron_tagger to\n",
            "[nltk_data]     /root/nltk_data...\n",
            "[nltk_data]   Package averaged_perceptron_tagger is already up-to-\n",
            "[nltk_data]       date!\n",
            "[nltk_data] Downloading package punkt_tab to /root/nltk_data...\n",
            "[nltk_data]   Package punkt_tab is already up-to-date!\n",
            "[nltk_data] Downloading package averaged_perceptron_tagger_eng to\n",
            "[nltk_data]     /root/nltk_data...\n",
            "[nltk_data]   Unzipping taggers/averaged_perceptron_tagger_eng.zip.\n"
          ]
        },
        {
          "output_type": "stream",
          "name": "stdout",
          "text": [
            "df_token_lists.head(5):\n",
            "        0           1       2          3         4         5          6          7         8           9             10         11        12         13      14      15           16      17    18    19       20    21    22    23     24    25     26         27    28    29    30    31     32    33    34     35     36    37    38    39    40    41    42    43    44    45    46    47    48    49    50    51    52    53    54    55    56    57    58    59    60    61    62    63    64    65    66    67    68    69    70    71    72    73    74    75    76    77    78    79    80    81    82    83    84    85    86    87    88    89    90    91    92    93    94    95    96    97    98    99    100   101   102   103   104   105   106   107   108   109   110   111   112   113\n",
            "0         i        like  living                    i      have  sometimes       been    wildly              despairingly              acutely  miserable          racked         with  sorrow         but  through    it   all     i  still  know  quite  certainly  that  just    to    be  alive    is     a  grand  thing        None  None  None  None  None  None  None  None  None  None  None  None  None  None  None  None  None  None  None  None  None  None  None  None  None  None  None  None  None  None  None  None  None  None  None  None  None  None  None  None  None  None  None  None  None  None  None  None  None  None  None  None  None  None  None  None  None  None  None  None  None  None  None  None  None  None  None  None  None  None  None  None  None  None  None  None\n",
            "1       the  impossible   could        not      have  happened             therefore       the  impossible          must         be  possible         in   spite      of  appearances          None  None     None  None  None  None   None  None   None       None  None  None  None  None   None  None  None   None   None  None  None  None  None  None  None  None  None  None  None  None  None  None  None  None  None  None  None  None  None  None  None  None  None  None  None  None  None  None  None  None  None  None  None  None  None  None  None  None  None  None  None  None  None  None  None  None  None  None  None  None  None  None  None  None  None  None  None  None  None  None  None  None  None  None  None  None  None  None  None  None  None  None  None  None  None  None\n",
            "2    poirot                   i       said                   i       have       been  thinking                        an  admirable  exercise         my  friend             continue      it        None     None  None  None  None   None  None   None       None  None  None  None  None   None  None  None   None   None  None  None  None  None  None  None  None  None  None  None  None  None  None  None  None  None  None  None  None  None  None  None  None  None  None  None  None  None  None  None  None  None  None  None  None  None  None  None  None  None  None  None  None  None  None  None  None  None  None  None  None  None  None  None  None  None  None  None  None  None  None  None  None  None  None  None  None  None  None  None  None  None  None  None  None  None  None\n",
            "3  instinct          is       a  marvelous     thing                   it        can   neither          be     explained        nor   ignored               None    None         None    None  None  None     None  None  None  None   None  None   None       None  None  None  None  None   None  None  None   None   None  None  None  None  None  None  None  None  None  None  None  None  None  None  None  None  None  None  None  None  None  None  None  None  None  None  None  None  None  None  None  None  None  None  None  None  None  None  None  None  None  None  None  None  None  None  None  None  None  None  None  None  None  None  None  None  None  None  None  None  None  None  None  None  None  None  None  None  None  None  None  None  None  None  None  None  None  None\n",
            "4       the        best    time        for  planning         a       book         is     while         you            re      doing       the     dishes            None         None    None  None  None     None  None  None  None   None  None   None       None  None  None  None  None   None  None  None   None   None  None  None  None  None  None  None  None  None  None  None  None  None  None  None  None  None  None  None  None  None  None  None  None  None  None  None  None  None  None  None  None  None  None  None  None  None  None  None  None  None  None  None  None  None  None  None  None  None  None  None  None  None  None  None  None  None  None  None  None  None  None  None  None  None  None  None  None  None  None  None  None  None  None  None  None  None  None\n",
            "\n",
            "\n",
            "df_lem_strings.head():\n",
            "                                                                                                                                                       lem quote\n",
            "0  - - living - - - sometimes - wildly - despairingly - acutely miserable - rack - sorrow - - - - - - still know quite certainly - - - - alive - - grand thing -\n",
            "1                                                                         - impossible - - - happen - therefore - impossible - - possible - spite - appearance -\n",
            "2                                                                                    poirot - - say - - - - think - - admirable exercise - friend - continue - -\n",
            "3                                                                                                      instinct - - marvelous thing - - - - - explain - ignore -\n",
            "4                                                                                                               - best time - planning - book - - - - - - dish -\n"
          ]
        },
        {
          "output_type": "stream",
          "name": "stderr",
          "text": [
            "<ipython-input-8-7aaa23db1ea6>:82: FutureWarning: A value is trying to be set on a copy of a DataFrame or Series through chained assignment using an inplace method.\n",
            "The behavior will change in pandas 3.0. This inplace method will never work because the intermediate object on which we are setting values always behaves as a copy.\n",
            "\n",
            "For example, when doing 'df[col].method(value, inplace=True)', try using 'df.method({col: value}, inplace=True)' or df[col] = df[col].method(value) instead, to perform the operation inplace on the original object.\n",
            "\n",
            "\n",
            "  df_token_lists[c].fillna(value='', inplace=True)\n"
          ]
        }
      ]
    },
    {
      "metadata": {
        "id": "Zlwrxzj4ebx4"
      },
      "cell_type": "markdown",
      "source": [
        "## Process results, find the most popular lemmatized words and group results by Part of Speech (POS)"
      ]
    },
    {
      "metadata": {
        "id": "6CqM0UVkebx5",
        "colab": {
          "base_uri": "https://localhost:8080/"
        },
        "outputId": "06e1c3e5-322e-4384-bc93-a89d210032f2"
      },
      "cell_type": "code",
      "source": [
        "# Add counts\n",
        "print(\"Group by lemmatized words, add count and sort:\")\n",
        "df_all_words = pd.DataFrame(li_tokens, columns=['token', 'stem', 'lem', 'pos'])\n",
        "df_all_words['counts'] = df_all_words.groupby(['lem'])['lem'].transform('count')\n",
        "df_all_words = df_all_words.sort_values(by=['counts', 'lem'], ascending=[False, True]).reset_index()\n",
        "\n",
        "print(\"Get just the first row in each lemmatized group\")\n",
        "df_words = df_all_words.groupby('lem').first().sort_values(by='counts', ascending=False).reset_index()\n",
        "print(\"df_words.head(10):\")\n",
        "print(df_words.head(10))"
      ],
      "execution_count": 9,
      "outputs": [
        {
          "output_type": "stream",
          "name": "stdout",
          "text": [
            "Group by lemmatized words, add count and sort:\n",
            "Get just the first row in each lemmatized group\n",
            "df_words.head(10):\n",
            "          lem  index       token    stem pos  counts\n",
            "0      always     50      always   alway  RB      10\n",
            "1     nothing    116     nothing    noth  NN       6\n",
            "2        life     54        life    life  NN       6\n",
            "3         man     74         man     man  NN       5\n",
            "4        give     39        gave    gave  VB       5\n",
            "5       world    121       world   world  NN       5\n",
            "6        fact    106        fact    fact  NN       5\n",
            "7  impossible     15  impossible  imposs  JJ       4\n",
            "8         say     23        said    said  VB       4\n",
            "9        come    180       comes    come  VB       4\n"
          ]
        }
      ]
    },
    {
      "metadata": {
        "id": "MV1LUFHZW_fp"
      },
      "cell_type": "markdown",
      "source": [
        "## Top 10 words per Part Of Speech (POS)"
      ]
    },
    {
      "metadata": {
        "id": "-Ok5CPdqW_qW",
        "colab": {
          "base_uri": "https://localhost:8080/"
        },
        "outputId": "40c273df-dd2b-4579-d092-f9da357e8739"
      },
      "cell_type": "code",
      "source": [
        "df_words = df_words[['lem', 'pos', 'counts']].head(200)\n",
        "for v in POS_TYPES:\n",
        "    df_pos = df_words[df_words['pos'] == v]\n",
        "    print()\n",
        "    print(\"POS_TYPE:\", v)\n",
        "    print(df_pos.head(10).to_string())"
      ],
      "execution_count": 10,
      "outputs": [
        {
          "output_type": "stream",
          "name": "stdout",
          "text": [
            "\n",
            "POS_TYPE: NN\n",
            "          lem pos  counts\n",
            "1     nothing  NN       6\n",
            "2        life  NN       6\n",
            "3         man  NN       5\n",
            "5       world  NN       5\n",
            "6        fact  NN       5\n",
            "10  happiness  NN       4\n",
            "11      woman  NN       4\n",
            "12     theory  NN       4\n",
            "13       work  NN       4\n",
            "14      order  NN       3\n",
            "\n",
            "POS_TYPE: JJ\n",
            "            lem pos  counts\n",
            "7    impossible  JJ       4\n",
            "16      certain  JJ       3\n",
            "18      curious  JJ       3\n",
            "32         best  JJ       2\n",
            "37       little  JJ       2\n",
            "44         nice  JJ       2\n",
            "53         good  JJ       2\n",
            "59   improbable  JJ       2\n",
            "72         able  JJ       1\n",
            "74  accountable  JJ       1\n",
            "\n",
            "POS_TYPE: VB\n",
            "       lem pos  counts\n",
            "4     give  VB       5\n",
            "8      say  VB       4\n",
            "9     come  VB       4\n",
            "21    make  VB       3\n",
            "22     see  VB       3\n",
            "24   think  VB       3\n",
            "39    lose  VB       2\n",
            "47    take  VB       2\n",
            "55  ignore  VB       2\n",
            "56    know  VB       2\n",
            "\n",
            "POS_TYPE: RB\n",
            "          lem pos  counts\n",
            "0      always  RB      10\n",
            "15    however  RB       3\n",
            "19      still  RB       3\n",
            "23      never  RB       3\n",
            "50     really  RB       2\n",
            "51      quite  RB       2\n",
            "75    acutely  RB       1\n",
            "77  admirably  RB       1\n",
            "82      aside  RB       1\n",
            "91  therefore  RB       1\n"
          ]
        }
      ]
    },
    {
      "metadata": {
        "id": "kwbJBtx0qUSp"
      },
      "cell_type": "markdown",
      "source": [
        "## Sorted frequency plot for all words"
      ]
    },
    {
      "metadata": {
        "id": "SA-CfJ6fu_yP",
        "colab": {
          "base_uri": "https://localhost:8080/",
          "height": 555
        },
        "outputId": "533b9296-c11a-43ea-e195-b6f0a6d55658"
      },
      "cell_type": "code",
      "source": [
        "li_token_lists_flat = [y for x in li_token_lists for y in x]  # flatten the list of token lists to a single list\n",
        "print(\"li_token_lists_flat[:10]:\", li_token_lists_flat[:10])\n",
        "\n",
        "di_freq = nltk.FreqDist(li_token_lists_flat)\n",
        "del di_freq['']\n",
        "li_freq_sorted = sorted(di_freq.items(), key=lambda x: x[1], reverse=True)  # sorted list\n",
        "print(li_freq_sorted)\n",
        "\n",
        "di_freq.plot(30, cumulative=False)"
      ],
      "execution_count": 11,
      "outputs": [
        {
          "output_type": "stream",
          "name": "stdout",
          "text": [
            "li_token_lists_flat[:10]: ['i', 'like', 'living', '', 'i', 'have', 'sometimes', 'been', 'wildly', '']\n",
            "[('the', 51), ('is', 36), ('to', 33), ('a', 27), ('i', 25), ('and', 25), ('it', 23), ('in', 20), ('that', 19), ('be', 18), ('of', 18), ('you', 17), ('but', 14), ('have', 13), ('not', 12), ('he', 12), ('one', 11), ('all', 10), ('always', 10), ('there', 10), ('for', 9), ('will', 9), ('me', 9), ('when', 8), ('they', 8), ('like', 7), ('with', 7), ('must', 7), ('my', 7), ('do', 7), ('was', 7), ('we', 7), ('what', 7), ('life', 6), ('if', 6), ('nothing', 6), ('his', 6), ('most', 5), ('are', 5), ('s', 5), ('man', 5), ('has', 5), ('world', 5), ('am', 5), ('would', 5), ('impossible', 4), ('said', 4), ('can', 4), ('give', 4), ('nt', 4), ('who', 4), ('happiness', 4), ('only', 4), ('more', 4), ('this', 4), ('any', 4), ('or', 4), ('work', 4), ('still', 3), ('an', 3), ('certain', 3), ('truth', 3), ('however', 3), ('curious', 3), ('them', 3), ('fit', 3), ('facts', 3), ('never', 3), ('felt', 3), ('may', 3), ('on', 3), ('himself', 3), ('own', 3), ('come', 3), ('which', 3), ('him', 3), ('sherlock', 3), ('holmes', 3), ('woman', 3), ('living', 2), ('been', 2), ('know', 2), ('quite', 2), ('just', 2), ('thing', 2), ('friend', 2), ('neither', 2), ('nor', 2), ('ignored', 2), ('best', 2), ('time', 2), ('doing', 2), ('too', 2), ('your', 2), ('imagination', 2), ('good', 2), ('really', 2), ('nice', 2), ('no', 2), ('little', 2), ('love', 2), ('ca', 2), ('help', 2), ('those', 2), ('lose', 2), ('their', 2), ('theory', 2), ('into', 2), ('fact', 2), ('another', 2), ('these', 2), ('storm', 2), ('makes', 2), ('think', 2), ('by', 2), ('order', 2), ('person', 2), ('artist', 2), ('myself', 2), ('fine', 2), ('tea', 2), ('than', 2), ('see', 2), ('why', 2), ('now', 2), ('eliminated', 2), ('then', 2), ('whatever', 2), ('remains', 2), ('improbable', 2), ('suit', 2), ('theories', 2), ('perfect', 2), ('watson', 2), ('at', 2), ('mind', 2), ('dull', 2), ('m', 2), ('incident', 2), ('dog', 2), ('nighttime', 2), ('she', 2), ('her', 2), ('irene', 2), ('adler', 2), ('sometimes', 1), ('wildly', 1), ('despairingly', 1), ('acutely', 1), ('miserable', 1), ('racked', 1), ('sorrow', 1), ('through', 1), ('certainly', 1), ('alive', 1), ('grand', 1), ('could', 1), ('happened', 1), ('therefore', 1), ('possible', 1), ('spite', 1), ('appearances', 1), ('poirot', 1), ('thinking', 1), ('admirable', 1), ('exercise', 1), ('continue', 1), ('instinct', 1), ('marvelous', 1), ('explained', 1), ('planning', 1), ('book', 1), ('while', 1), ('re', 1), ('dishes', 1), ('gave', 1), ('much', 1), ('rein', 1), ('servant', 1), ('bad', 1), ('master', 1), ('simplest', 1), ('explanation', 1), ('likely', 1), ('hard', 1), ('men', 1), ('goodlooking', 1), ('women', 1), ('advice', 1), ('reason', 1), ('ugly', 1), ('itself', 1), ('beautiful', 1), ('seekers', 1), ('after', 1), ('making', 1), ('up', 1), ('anybody', 1), ('cordial', 1), ('gallant', 1), ('full', 1), ('attentions', 1), ('altogether', 1), ('charming', 1), ('looking', 1), ('sheep', 1), ('quiet', 1), ('people', 1), ('tempers', 1), ('vengeance', 1), ('tried', 1), ('clever', 1), ('undoing', 1), ('conceive', 1), ('everything', 1), ('throw', 1), ('aside', 1), ('significant', 1), ('blessed', 1), ('expects', 1), ('shall', 1), ('disappointed', 1), ('misery', 1), ('comparison', 1), ('state', 1), ('deepest', 1), ('grief', 1), ('able', 1), ('experience', 1), ('supreme', 1), ('die', 1), ('morrel', 1), ('appreciate', 1), ('enjoyments', 1), ('human', 1), ('wisdom', 1), ('contained', 1), ('two', 1), ('words', 1), ('wait', 1), ('hope', 1), ('fear', 1), ('quarrels', 1), ('seek', 1), ('hazardous', 1), ('adventures', 1), ('moral', 1), ('wounds', 1), ('peculiarity', 1), ('hidden', 1), ('close', 1), ('painful', 1), ('ready', 1), ('bleed', 1), ('touched', 1), ('remain', 1), ('fresh', 1), ('open', 1), ('heart', 1), ('young', 1), ('bask', 1), ('sunlight', 1), ('moment', 1), ('shattered', 1), ('rocks', 1), ('next', 1), ('comes', 1), ('united', 1), ('stand', 1), ('divided', 1), ('fall', 1), ('meant', 1), ('attain', 1), ('so', 1), ('easily', 1), ('palaces', 1), ('fairy', 1), ('tales', 1), ('whose', 1), ('gates', 1), ('guarded', 1), ('dragons', 1), ('fight', 1), ('conquer', 1), ('hungry', 1), ('feed', 1), ('bored', 1), ('amuse', 1), ('doubts', 1), ('enlist', 1), ('ranks', 1), ('enemies', 1), ('bear', 1), ('arms', 1), ('against', 1), ('failures', 1), ('being', 1), ('first', 1), ('convinced', 1), ('hate', 1), ('fashionable', 1), ('ordered', 1), ('measured', 1), ('ruled', 1), ('our', 1), ('musicpaper', 1), ('wished', 1), ('desired', 1), ('coveted', 1), ('free', 1), ('independent', 1), ('relying', 1), ('resources', 1), ('accountable', 1), ('tell', 1), ('moon', 1), ('shining', 1), ('show', 1), ('glint', 1), ('light', 1), ('broken', 1), ('glass', 1), ('idiot', 1), ('face', 1), ('crisis', 1), ('daytoday', 1), ('wears', 1), ('out', 1), ('role', 1), ('ask', 1), ('questions', 1), ('answer', 1), ('weather', 1), ('today', 1), ('choose', 1), ('whether', 1), ('drink', 1), ('hang', 1), ('awful', 1), ('insulting', 1), ('depressing', 1), ('banality', 1), ('tree', 1), ('dead', 1), ('sways', 1), ('wind', 1), ('others', 1), ('died', 1), ('part', 1), ('way', 1), ('since', 1), ('forthcoming', 1), ('let', 1), ('philosophical', 1), ('conversation', 1), ('everybody', 1), ('purpose', 1), ('suffering', 1), ('mysteries', 1), ('live', 1), ('observe', 1), ('deceptive', 1), ('obvious', 1), ('capital', 1), ('mistake', 1), ('theorize', 1), ('before', 1), ('data', 1), ('insensibly', 1), ('begins', 1), ('twist', 1), ('instead', 1), ('skillful', 1), ('workman', 1), ('very', 1), ('careful', 1), ('indeed', 1), ('as', 1), ('takes', 1), ('brainattic', 1), ('tools', 1), ('large', 1), ('assortment', 1), ('once', 1), ('convenient', 1), ('inconvenient', 1), ('same', 1), ('rebels', 1), ('stagnation', 1), ('problems', 1), ('abstruse', 1), ('cryptogram', 1), ('intricate', 1), ('analysis', 1), ('proper', 1), ('atmosphere', 1), ('dispense', 1), ('artificial', 1), ('stimulants', 1), ('abhor', 1), ('routine', 1), ('existence', 1), ('crave', 1), ('mental', 1), ('exaltation', 1), ('chosen', 1), ('particular', 1), ('profession', 1), ('rather', 1), ('created', 1), ('brain', 1), ('rest', 1), ('mere', 1), ('appendix', 1), ('some', 1), ('lunatics', 1), ('about', 1), ('without', 1), ('psychopath', 1), ('highfunctioning', 1), ('sociopath', 1), ('research', 1), ('point', 1), ('wish', 1), ('draw', 1), ('attention', 1), ('did', 1), ('remarked', 1), ('how', 1), ('often', 1), ('exciting', 1), ('yawn', 1), ('seldom', 1), ('heard', 1), ('mention', 1), ('under', 1), ('other', 1), ('name', 1), ('eyes', 1), ('eclipses', 1), ('predominates', 1), ('whole', 1), ('sex', 1), ('emotion', 1), ('akin', 1), ('emotions', 1), ('particularly', 1), ('were', 1), ('abhorrent', 1), ('cold', 1), ('precise', 1), ('admirably', 1), ('balanced', 1), ('take', 1), ('reasoning', 1), ('observing', 1), ('machine', 1), ('seen', 1), ('yet', 1), ('late', 1), ('dubious', 1), ('questionable', 1), ('memory', 1)]\n"
          ]
        },
        {
          "output_type": "execute_result",
          "data": {
            "text/plain": [
              "<Axes: xlabel='Samples', ylabel='Counts'>"
            ]
          },
          "metadata": {},
          "execution_count": 11
        },
        {
          "output_type": "display_data",
          "data": {
            "text/plain": [
              "<Figure size 640x480 with 1 Axes>"
            ],
            "image/png": "[encoded data removed]"
          },
          "metadata": {}
        }
      ]
    },
    {
      "metadata": {
        "id": "9LnOHCX7u4zK"
      },
      "cell_type": "markdown",
      "source": [
        "## ## Sorted frequency plot for Lemmatized  words after removing stopwords"
      ]
    },
    {
      "metadata": {
        "id": "sgsXQxJztxbb",
        "colab": {
          "base_uri": "https://localhost:8080/",
          "height": 565
        },
        "outputId": "f4ebc48a-1e8f-4264-97e9-6eb447e4447f"
      },
      "cell_type": "code",
      "source": [
        "li_lem_words = df_all_words['lem'].tolist()\n",
        "di_freq2 = nltk.FreqDist(li_lem_words)\n",
        "li_freq_sorted2 = sorted(di_freq2.items(), key=lambda x: x[1], reverse=True)  # sorted list\n",
        "print(li_freq_sorted2)\n",
        "\n",
        "di_freq2.plot(30, cumulative=False)"
      ],
      "execution_count": 12,
      "outputs": [
        {
          "output_type": "stream",
          "name": "stdout",
          "text": [
            "[('always', 10), ('life', 6), ('nothing', 6), ('fact', 5), ('give', 5), ('man', 5), ('world', 5), ('come', 4), ('happiness', 4), ('impossible', 4), ('say', 4), ('theory', 4), ('woman', 4), ('work', 4), ('certain', 3), ('curious', 3), ('felt', 3), ('fit', 3), ('holmes', 3), ('however', 3), ('make', 3), ('never', 3), ('order', 3), ('see', 3), ('sherlock', 3), ('still', 3), ('think', 3), ('truth', 3), ('adler', 2), ('artist', 2), ('attention', 2), ('best', 2), ('die', 2), ('dog', 2), ('dull', 2), ('eliminate', 2), ('emotion', 2), ('fine', 2), ('friend', 2), ('good', 2), ('help', 2), ('ignore', 2), ('imagination', 2), ('improbable', 2), ('incident', 2), ('irene', 2), ('know', 2), ('little', 2), ('living', 2), ('lose', 2), ('love', 2), ('mind', 2), ('nice', 2), ('nighttime', 2), ('observe', 2), ('perfect', 2), ('person', 2), ('quite', 2), ('really', 2), ('reason', 2), ('remains', 2), ('storm', 2), ('suit', 2), ('take', 2), ('tea', 2), ('thing', 2), ('time', 2), ('watson', 2), ('wish', 2), ('abhor', 1), ('abhorrent', 1), ('able', 1), ('abstruse', 1), ('accountable', 1), ('acutely', 1), ('admirable', 1), ('admirably', 1), ('adventure', 1), ('advice', 1), ('akin', 1), ('alive', 1), ('altogether', 1), ('amuse', 1), ('analysis', 1), ('answer', 1), ('anybody', 1), ('appearance', 1), ('appendix', 1), ('appreciate', 1), ('arm', 1), ('artificial', 1), ('aside', 1), ('ask', 1), ('assortment', 1), ('atmosphere', 1), ('attain', 1), ('awful', 1), ('bad', 1), ('balance', 1), ('banality', 1), ('bask', 1), ('bear', 1), ('beautiful', 1), ('begin', 1), ('bleed', 1), ('bless', 1), ('book', 1), ('bore', 1), ('brain', 1), ('brainattic', 1), ('broken', 1), ('capital', 1), ('careful', 1), ('certainly', 1), ('charm', 1), ('choose', 1), ('chosen', 1), ('clever', 1), ('close', 1), ('cold', 1), ('comparison', 1), ('conceive', 1), ('conquer', 1), ('contain', 1), ('continue', 1), ('convenient', 1), ('conversation', 1), ('convince', 1), ('cordial', 1), ('covet', 1), ('crave', 1), ('create', 1), ('crisis', 1), ('cryptogram', 1), ('data', 1), ('daytoday', 1), ('dead', 1), ('deceptive', 1), ('deepest', 1), ('depress', 1), ('desire', 1), ('despairingly', 1), ('disappointed', 1), ('dish', 1), ('dispense', 1), ('divide', 1), ('doubt', 1), ('dragon', 1), ('draw', 1), ('drink', 1), ('dubious', 1), ('easily', 1), ('eclipse', 1), ('enemy', 1), ('enjoyment', 1), ('enlist', 1), ('everybody', 1), ('everything', 1), ('exaltation', 1), ('excite', 1), ('exercise', 1), ('existence', 1), ('expect', 1), ('experience', 1), ('explain', 1), ('explanation', 1), ('eye', 1), ('face', 1), ('failure', 1), ('fairy', 1), ('fall', 1), ('fashionable', 1), ('fear', 1), ('feed', 1), ('fight', 1), ('first', 1), ('forthcoming', 1), ('free', 1), ('fresh', 1), ('full', 1), ('gallant', 1), ('gate', 1), ('glass', 1), ('glint', 1), ('goodlooking', 1), ('grand', 1), ('grief', 1), ('guard', 1), ('hang', 1), ('happen', 1), ('hard', 1), ('hate', 1), ('hazardous', 1), ('heard', 1), ('heart', 1), ('hidden', 1), ('highfunctioning', 1), ('hope', 1), ('human', 1), ('hungry', 1), ('idiot', 1), ('inconvenient', 1), ('indeed', 1), ('independent', 1), ('insensibly', 1), ('instead', 1), ('instinct', 1), ('insult', 1), ('intricate', 1), ('large', 1), ('late', 1), ('let', 1), ('light', 1), ('likely', 1), ('live', 1), ('look', 1), ('lunatic', 1), ('machine', 1), ('marvelous', 1), ('master', 1), ('meant', 1), ('measure', 1), ('memory', 1), ('men', 1), ('mental', 1), ('mention', 1), ('mere', 1), ('miserable', 1), ('misery', 1), ('mistake', 1), ('moment', 1), ('moon', 1), ('moral', 1), ('morrel', 1), ('much', 1), ('musicpaper', 1), ('mystery', 1), ('name', 1), ('next', 1), ('obvious', 1), ('often', 1), ('open', 1), ('others', 1), ('painful', 1), ('palace', 1), ('part', 1), ('particular', 1), ('particularly', 1), ('peculiarity', 1), ('people', 1), ('philosophical', 1), ('planning', 1), ('point', 1), ('poirot', 1), ('possible', 1), ('precise', 1), ('predominates', 1), ('problem', 1), ('profession', 1), ('proper', 1), ('psychopath', 1), ('purpose', 1), ('quarrel', 1), ('question', 1), ('questionable', 1), ('quiet', 1), ('rack', 1), ('rank', 1), ('rather', 1), ('ready', 1), ('rebel', 1), ('rein', 1), ('rely', 1), ('remain', 1), ('remark', 1), ('research', 1), ('resource', 1), ('rest', 1), ('rock', 1), ('role', 1), ('routine', 1), ('rule', 1), ('seek', 1), ('seeker', 1), ('seldom', 1), ('servant', 1), ('sex', 1), ('shatter', 1), ('sheep', 1), ('shin', 1), ('show', 1), ('significant', 1), ('simplest', 1), ('skillful', 1), ('sociopath', 1), ('sometimes', 1), ('sorrow', 1), ('spite', 1), ('stagnation', 1), ('stand', 1), ('state', 1), ('stimulant', 1), ('suffer', 1), ('sunlight', 1), ('supreme', 1), ('sway', 1), ('tale', 1), ('tell', 1), ('temper', 1), ('theorize', 1), ('therefore', 1), ('throw', 1), ('today', 1), ('tool', 1), ('touch', 1), ('tree', 1), ('try', 1), ('twist', 1), ('ugly', 1), ('undo', 1), ('united', 1), ('vengeance', 1), ('wait', 1), ('way', 1), ('wear', 1), ('weather', 1), ('whole', 1), ('wildly', 1), ('wind', 1), ('wisdom', 1), ('word', 1), ('workman', 1), ('wound', 1), ('yawn', 1), ('yet', 1), ('young', 1)]\n"
          ]
        },
        {
          "output_type": "execute_result",
          "data": {
            "text/plain": [
              "<Axes: xlabel='Samples', ylabel='Counts'>"
            ]
          },
          "metadata": {},
          "execution_count": 12
        },
        {
          "output_type": "display_data",
          "data": {
            "text/plain": [
              "<Figure size 640x480 with 1 Axes>"
            ],
            "image/png": "[encoded data removed]"
          },
          "metadata": {}
        }
      ]
    }
  ]
}